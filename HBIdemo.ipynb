{
 "cells": [
  {
   "cell_type": "code",
   "execution_count": 1,
   "metadata": {},
   "outputs": [
    {
     "name": "stderr",
     "output_type": "stream",
     "text": [
      "WARNING (pytensor.tensor.blas): Using NumPy C-API based implementation for BLAS functions.\n"
     ]
    }
   ],
   "source": [
    "import numpy as np\n",
    "import pandas as pd\n",
    "import matplotlib.pyplot as plt\n",
    "import pymc as pm\n",
    "import arviz as az\n",
    "import seaborn as sns\n",
    "import pandas as pd\n",
    "from scipy.stats import norm\n",
    "\n",
    "from ipywidgets import interact\n",
    "%matplotlib qt\n",
    "import pyqtgraph as pg\n",
    "from pyqtgraph.Qt import QtGui\n",
    "plt.rcdefaults()\n",
    "\n",
    "# figure styling\n",
    "font=18\n",
    "font_axis=20\n",
    "plt.rcParams.update({'font.size': font})  # Set the desired font size\n",
    "# plt.rcParams['text.usetex'] = True\n",
    "plt.rcParams['figure.facecolor'] = 'white'  # Background color for figures\n",
    "plt.rcParams['axes.facecolor'] = 'white'    # Background color for axes\n",
    "# Set the font to Times New Roman globally\n",
    "# plt.rcParams[\"font.family\"] = \"Times New Roman\"\n",
    "# plt.rcParams[\"mathtext.fontset\"] = \"stix\"  # Use a math font for mathtext (like Greek symbols)\n",
    "\n",
    "# Generate synthetic data\n",
    "np.random.seed(42)\n",
    "n_groups = 100       # Number of groups\n",
    "n_per_group = 7      # Observations per group\n",
    "group_idx = np.repeat(np.arange(n_groups), n_per_group)\n",
    "\n",
    "\n",
    "data = np.load('data.npy')\n",
    "\n",
    "## Generate synthetic data\n",
    "# group_means = np.random.uniform(1, 10, size=n_groups)\n",
    "# group_slopes = np.random.uniform(5, 7, size=n_groups)\n",
    "# data = []\n",
    "# for group in range(n_groups):\n",
    "#     x = np.linspace(0, 10, n_per_group)\n",
    "#     # y = group_means[group] + group_slopes[group] * x + np.random.normal(0, 1, size=n_per_group)\n",
    "#     y = group_slopes[group] * x + np.random.normal(0, 1, size=n_per_group)\n",
    "#     data.append((x, y))\n",
    "\n",
    "# Flatten data for modeling\n",
    "x = np.concatenate([d[0] for d in data])\n",
    "y = np.concatenate([d[1] for d in data])\n",
    "\n",
    "\n",
    "plt.figure(figsize=(5, 5))\n",
    "plt.scatter(x, y)  # Create a scatter plot for each x, y pair\n",
    "plt.xlim(0, np.max(x)+np.max(x)*0.1)\n",
    "plt.ylim(0, np.max(y)+np.max(y)*0.1)\n",
    "plt.xlabel('x values')\n",
    "plt.ylabel('y values')\n",
    "# plt.title('Scatter Plot of x and y')\n",
    "plt.show()\n",
    "plt.tight_layout()"
   ]
  },
  {
   "cell_type": "code",
   "execution_count": 2,
   "metadata": {},
   "outputs": [
    {
     "name": "stderr",
     "output_type": "stream",
     "text": [
      "Auto-assigning NUTS sampler...\n",
      "Initializing NUTS using jitter+adapt_diag...\n",
      "Multiprocess sampling (4 chains in 4 jobs)\n",
      "NUTS: [mu_beta, sigma_beta, beta, sigma]\n"
     ]
    },
    {
     "data": {
      "application/vnd.jupyter.widget-view+json": {
       "model_id": "7fba658ec3754ce5b8b79382a6c5375a",
       "version_major": 2,
       "version_minor": 0
      },
      "text/plain": [
       "Output()"
      ]
     },
     "metadata": {},
     "output_type": "display_data"
    },
    {
     "data": {
      "text/html": [
       "<pre style=\"white-space:pre;overflow-x:auto;line-height:normal;font-family:Menlo,'DejaVu Sans Mono',consolas,'Courier New',monospace\"></pre>\n"
      ],
      "text/plain": []
     },
     "metadata": {},
     "output_type": "display_data"
    },
    {
     "data": {
      "text/html": [
       "<pre style=\"white-space:pre;overflow-x:auto;line-height:normal;font-family:Menlo,'DejaVu Sans Mono',consolas,'Courier New',monospace\">\n",
       "</pre>\n"
      ],
      "text/plain": [
       "\n"
      ]
     },
     "metadata": {},
     "output_type": "display_data"
    },
    {
     "name": "stderr",
     "output_type": "stream",
     "text": [
      "Sampling 4 chains for 1_000 tune and 1_000 draw iterations (4_000 + 4_000 draws total) took 36 seconds.\n",
      "The rhat statistic is larger than 1.01 for some parameters. This indicates problems during sampling. See https://arxiv.org/abs/1903.08008 for details\n",
      "The effective sample size per chain is smaller than 100 for some parameters.  A higher number is needed for reliable rhat and ess computation. See https://arxiv.org/abs/1903.08008 for details\n",
      "Sampling: [y_obs]\n"
     ]
    },
    {
     "data": {
      "application/vnd.jupyter.widget-view+json": {
       "model_id": "bbc24cebbb8b41ca9ed8685ad511a2f8",
       "version_major": 2,
       "version_minor": 0
      },
      "text/plain": [
       "Output()"
      ]
     },
     "metadata": {},
     "output_type": "display_data"
    },
    {
     "data": {
      "text/html": [
       "<pre style=\"white-space:pre;overflow-x:auto;line-height:normal;font-family:Menlo,'DejaVu Sans Mono',consolas,'Courier New',monospace\"></pre>\n"
      ],
      "text/plain": []
     },
     "metadata": {},
     "output_type": "display_data"
    },
    {
     "data": {
      "text/html": [
       "<pre style=\"white-space:pre;overflow-x:auto;line-height:normal;font-family:Menlo,'DejaVu Sans Mono',consolas,'Courier New',monospace\">\n",
       "</pre>\n"
      ],
      "text/plain": [
       "\n"
      ]
     },
     "metadata": {},
     "output_type": "display_data"
    }
   ],
   "source": [
    "# Hierarchical Bayesian Model for strain-tip displacement data\n",
    "with pm.Model() as model:\n",
    "    # Hyperpriors for group means and slopes\n",
    "    mu_beta = pm.Normal(\"mu_beta\", mu=0, sigma=10)\n",
    "    sigma_beta = pm.HalfNormal(\"sigma_beta\", sigma=10)\n",
    "    \n",
    "    # Group-level priors\n",
    "    beta = pm.Normal(\"beta\", mu=mu_beta, sigma=sigma_beta, shape=n_groups)\n",
    "    \n",
    "    # Residual standard deviation\n",
    "    sigma = pm.HalfNormal(\"sigma\", sigma=10)\n",
    "\n",
    "    # Likelihood\n",
    "    y_obs = pm.Normal(\n",
    "        \"y_obs\",\n",
    "        mu=beta[group_idx] * x,\n",
    "        sigma=sigma,\n",
    "        observed=y,\n",
    "    )\n",
    "    \n",
    "    # MCMC sampling\n",
    "    trace = pm.sample(1000, return_inferencedata=True)\n",
    "\n",
    "# Posterior Predictive Check\n",
    "with model:\n",
    "    posterior_pred = pm.sample_posterior_predictive(trace)\n"
   ]
  },
  {
   "cell_type": "code",
   "execution_count": 4,
   "metadata": {},
   "outputs": [],
   "source": [
    "# Convert posterior samples into a pandas DataFrame\n",
    "posterior_samples = {\n",
    "    # \"mu_alpha\": trace.posterior[\"mu_alpha\"].values.flatten(),\n",
    "    # \"sigma_alpha\": trace.posterior[\"sigma_alpha\"].values.flatten(),\n",
    "    r'$\\mu_{\\theta(1)}$': trace.posterior[\"mu_beta\"].values.flatten(),\n",
    "    r'$\\Sigma_{\\theta(1)}$': trace.posterior[\"sigma_beta\"].values.flatten(),\n",
    "    r'$\\sigma$': trace.posterior[\"sigma\"].values.flatten(),\n",
    "}\n",
    "\n",
    "df = pd.DataFrame(posterior_samples)\n",
    "\n",
    "# Create the PairGrid\n",
    "g = sns.PairGrid(df)\n",
    "g.map_lower(sns.kdeplot, fill=True, cmap=\"Blues\")  # KDE on the lower side\n",
    "g.map_diag(sns.histplot, kde=True, color=\"blue\")   # Histogram on the diagonal\n",
    "g.map_upper(sns.scatterplot, alpha=0.5, color=\"darkblue\")  # Scatter above the diagonal\n",
    "\n",
    "plt.gcf().text(0.03, 0.03, \"(a)\", fontsize=20, font='Times New Roman', verticalalignment='bottom', horizontalalignment='left')\n",
    "# Add titles and adjust layout\n",
    "# g.figure.suptitle(\"Pair Plot: Joint Posterior with Scatter Above Diagonal\")\n",
    "plt.show()\n",
    "plt.tight_layout()"
   ]
  },
  {
   "cell_type": "code",
   "execution_count": 5,
   "metadata": {},
   "outputs": [
    {
     "name": "stderr",
     "output_type": "stream",
     "text": [
      "<>:46: SyntaxWarning: invalid escape sequence '\\m'\n",
      "<>:47: SyntaxWarning: invalid escape sequence '\\m'\n",
      "<>:46: SyntaxWarning: invalid escape sequence '\\m'\n",
      "<>:47: SyntaxWarning: invalid escape sequence '\\m'\n",
      "C:\\Users\\lt24550\\AppData\\Local\\Temp\\ipykernel_22664\\2136198639.py:46: SyntaxWarning: invalid escape sequence '\\m'\n",
      "  ax.set_xlabel('Tip displacement ($\\mu$m)')\n",
      "C:\\Users\\lt24550\\AppData\\Local\\Temp\\ipykernel_22664\\2136198639.py:47: SyntaxWarning: invalid escape sequence '\\m'\n",
      "  ax.set_ylabel('Strain ($\\mu$)')\n"
     ]
    }
   ],
   "source": [
    "# Assuming you already have the posterior samples as 'trace'\n",
    "\n",
    "# Get posterior samples for the parameters\n",
    "# mu_alpha_samples = trace.posterior[\"mu_alpha\"].values.flatten()\n",
    "# sigma_alpha_samples = trace.posterior[\"sigma_alpha\"].values.flatten()\n",
    "mu_beta_samples = trace.posterior[\"mu_beta\"].values.flatten()\n",
    "sigma_beta_samples = trace.posterior[\"sigma_beta\"].values.flatten()\n",
    "sigma_samples = trace.posterior[\"sigma\"].values.flatten()\n",
    "\n",
    "# Make predictions based on these posterior samples\n",
    "# Here we assume a simple linear model for prediction: y = mu_alpha + mu_beta * x + sigma\n",
    "# Replace 'x_data' with your actual predictor values (e.g., the independent variable)\n",
    "\n",
    "x_data = np.linspace(0, 15, 100)  # Example predictor values (replace with your actual data)\n",
    "\n",
    "# Create a container for the predictions\n",
    "predictions = []\n",
    "\n",
    "for i in range(len(mu_beta_samples)):\n",
    "    # Generate prediction for each sample of the parameters\n",
    "    # y_pred = mu_alpha_samples[i] + mu_beta_samples[i] * x_data + np.random.normal(0, sigma_samples[i], len(x_data))\n",
    "    y_pred = (sigma_beta_samples[i] + mu_beta_samples[i]) * x_data + np.random.normal(0, sigma_samples[i], len(x_data))\n",
    "    predictions.append(y_pred)\n",
    "\n",
    "# Convert predictions to a numpy array\n",
    "predictions = np.array(predictions)\n",
    "\n",
    "# Calculate the 95% and 99% confidence intervals (credible intervals)\n",
    "lower_bound_95 = np.percentile(predictions, 5, axis=0)  # 5th percentile for lower bound (90% CI)\n",
    "upper_bound_95 = np.percentile(predictions, 95, axis=0)  # 95th percentile for upper bound (90% CI)\n",
    "\n",
    "lower_bound_99 = np.percentile(predictions, 0.5, axis=0)  # 0.5th percentile for lower bound (99% CI)\n",
    "upper_bound_99 = np.percentile(predictions, 99.5, axis=0)  # 99.5th percentile for upper bound (99% CI)\n",
    "\n",
    "# Data from analytical caluclation of strain and tip displacement for dogbone UFT specimen (ref: )\n",
    "locX=[0, 16.5]\n",
    "locY=[0, 2026.25]\n",
    "\n",
    "# Create the figure and axis\n",
    "fig, ax = plt.subplots(figsize=(6, 5))\n",
    "ax.plot(x_data, np.mean(predictions, axis=0), color='blue', label='Posterior Predictive Mean')\n",
    "ax.plot(locX, locY, linestyle='--', color='red', label='Analytical estimation')\n",
    "ax.fill_between(x_data, lower_bound_99, upper_bound_99, color='blue', alpha=0.2, label=\"99% Confidence Interval\")\n",
    "ax.fill_between(x_data, lower_bound_95, upper_bound_95, color='orange', alpha=0.2, label=\"90% Confidence Interval\")\n",
    "ax.scatter(x, y, color='black', s=10)\n",
    "ax.set_xlabel('Tip displacement ($\\mu$m)')\n",
    "ax.set_ylabel('Strain ($\\mu$)')\n",
    "plt.xlim(0, np.max(x)+np.max(x)*0.1)\n",
    "plt.ylim(0, 2000)\n",
    "ax.legend(frameon=False,fontsize=14)\n",
    "fig.text(0.07, 0.07, \"(b)\", fontsize=20, font='Times New Roman', verticalalignment='bottom', horizontalalignment='left')\n",
    "plt.tight_layout()\n",
    "plt.show()\n"
   ]
  }
 ],
 "metadata": {
  "kernelspec": {
   "display_name": "SINDRIenv",
   "language": "python",
   "name": "python3"
  },
  "language_info": {
   "codemirror_mode": {
    "name": "ipython",
    "version": 3
   },
   "file_extension": ".py",
   "mimetype": "text/x-python",
   "name": "python",
   "nbconvert_exporter": "python",
   "pygments_lexer": "ipython3",
   "version": "3.12.3"
  }
 },
 "nbformat": 4,
 "nbformat_minor": 2
}
